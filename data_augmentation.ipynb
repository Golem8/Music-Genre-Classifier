{
  "nbformat": 4,
  "nbformat_minor": 0,
  "metadata": {
    "colab": {
      "name": "data_augmentation.ipynb",
      "provenance": [],
      "collapsed_sections": [],
      "authorship_tag": "ABX9TyPprjAx+gztjPsQnnarzD9p",
      "include_colab_link": true
    },
    "kernelspec": {
      "name": "python3",
      "display_name": "Python 3"
    },
    "language_info": {
      "name": "python"
    }
  },
  "cells": [
    {
      "cell_type": "markdown",
      "metadata": {
        "id": "view-in-github",
        "colab_type": "text"
      },
      "source": [
        "<a href=\"https://colab.research.google.com/github/Golem8/Music-Genre-Classifier/blob/main/data_augmentation.ipynb\" target=\"_parent\"><img src=\"https://colab.research.google.com/assets/colab-badge.svg\" alt=\"Open In Colab\"/></a>"
      ]
    },
    {
      "cell_type": "code",
      "metadata": {
        "colab": {
          "base_uri": "https://localhost:8080/"
        },
        "id": "m2vS-QF5QtvW",
        "outputId": "e16ca76e-dc4b-451c-93d8-469f9406b6a7"
      },
      "source": [
        "#mount google drive\n",
        "from google.colab import drive\n",
        "drive.mount('/content/drive')"
      ],
      "execution_count": null,
      "outputs": [
        {
          "output_type": "stream",
          "text": [
            "Drive already mounted at /content/drive; to attempt to forcibly remount, call drive.mount(\"/content/drive\", force_remount=True).\n"
          ],
          "name": "stdout"
        }
      ]
    },
    {
      "cell_type": "code",
      "metadata": {
        "id": "67Epf_xSRr6p",
        "colab": {
          "base_uri": "https://localhost:8080/"
        },
        "outputId": "33c6f547-1653-48c4-86f5-80d6bb4687cf"
      },
      "source": [
        "#import libraries\n",
        "!pip install pydub\n",
        "import pydub\n",
        "import librosa\n",
        "import os\n",
        "from pydub import AudioSegment \n",
        "from pydub.utils import make_chunks\n",
        "\n",
        "from pydub import AudioSegment\n",
        "from pydub.generators import WhiteNoise\n",
        "import numpy as np\n",
        "import soundfile"
      ],
      "execution_count": 3,
      "outputs": [
        {
          "output_type": "stream",
          "text": [
            "Requirement already satisfied: pydub in /usr/local/lib/python3.7/dist-packages (0.25.1)\n"
          ],
          "name": "stdout"
        }
      ]
    },
    {
      "cell_type": "code",
      "metadata": {
        "id": "Hnn3yAv0m_iF"
      },
      "source": [
        "def augment_export(outputPath,iteration,chunk):\n",
        "  # augment using white noise and pitch\n",
        "  # adapted from https://stackoverflow.com/questions/56023174/how-to-add-noise-to-audiosegment-using-pydub\n",
        "\n",
        "  filepathwn = outputPath[:-4] + \"_\" + str(iteration) + \"_wn.wav\"\n",
        "  filepathreg = outputPath[:-4] + \"_\" + str(iteration) + \"_reg.wav\"\n",
        "\n",
        "  #-20 lowers the dB volume of the white noise\n",
        "  whitenoise = WhiteNoise().to_audio_segment(duration=len(chunk),volume=-20)\n",
        "  chunkWithNoise = chunk.overlay(whitenoise)\n",
        "  \n",
        "  # Debugging\n",
        "  #print (\"exporting\", filepathwn, \"and\",filepathreg)\n",
        "\n",
        "  #export the varients as .wav files (for easy use in librosa)\n",
        "  chunkWithNoise.export(filepathwn, format=\"wav\")\n",
        "  chunk.export(filepathreg, format=\"wav\")\n",
        "\n",
        "  #issue with pitch shift, can add later\n",
        "  \"\"\"\n",
        "  # https://stackoverflow.com/questions/58810035/converting-audio-files-between-pydub-and-librosa\n",
        "  samples = chunk.get_array_of_samples()\n",
        "  arr = np.array(samples).astype(np.float32)\n",
        "\n",
        "  #https://groups.google.com/g/librosa/c/XWae4PdbXuk\n",
        "  filepathpitch = outputPath[:-4] + \"_\" + str(i) + \"_pitch.wav\"\n",
        "  # sampling rate for our dataset is 22050\n",
        "  # https://www.researchgate.net/publication/311458869_FMA_A_Dataset_For_Music_Analysis\n",
        "  sr=22050\n",
        "  y_shifted = librosa.effects.pitch_shift(arr, sr, n_steps=1) # shifted by 4 half steps\n",
        "  soundfile.write(filepathpitch, y_shifted, sr, subtype=None, endian=None, format=None, closefd=True)\n",
        "  \"\"\"\n"
      ],
      "execution_count": 4,
      "outputs": []
    },
    {
      "cell_type": "code",
      "metadata": {
        "colab": {
          "base_uri": "https://localhost:8080/"
        },
        "id": "k5AIYalPR6KM",
        "outputId": "c24acbfa-5740-420b-ef23-b0b6b328dc6f"
      },
      "source": [
        "data_path = \"/content/drive/MyDrive/APS360 Team Project/data/testsmall\"\n",
        "\n",
        "# recursively goes though subdirectores and files\n",
        "# adapted from https://newbedev.com/how-to-iterate-over-files-in-a-given-directory\n",
        "for current_path, dirs_in_path, files_in_path in os.walk(data_path):\n",
        "    # dont need to use dirs_in_path or directories, only interested in files\n",
        "    for file in files_in_path:\n",
        "        filepath = current_path + '/' + file\n",
        "\n",
        "        # only keep the path if it is a music file, exclude \n",
        "        # other files in dataset\n",
        "        if filepath.endswith(\".mp3\"): # then a music file has been found\n",
        "            print(\"working on file\",filepath)\n",
        "            #https://stackoverflow.com/questions/65857983/how-can-i-split-an-audio-file-into-multiple-audio-wav-files-from-folder\n",
        "\n",
        "            audio_object = AudioSegment.from_mp3(filepath) \n",
        "            chunk_length_ms = 2000 #2000 ms clips each \n",
        "\n",
        "            #slices the audio into 2 second clips\n",
        "            chunks = make_chunks(audio_object,chunk_length_ms)\n",
        "            for iteration, chunk in enumerate(chunks): \n",
        "              outputPath = data_path + \"/output/\" + file[:-4] + \".wav\"\n",
        "\n",
        "              # if the chunks are not 2000 ms long (the last one may be shorter)\n",
        "              #discard them as they would\n",
        "              # mess up the creation of the spectrograms\n",
        "              if len(chunk) == 2000:\n",
        "                # will export the name with scheme path_iteration_(augment_type).wav\n",
        "                augment_export(outputPath,iteration,chunk)\n",
        "              else:\n",
        "                print(\"deleted malformed chunk of length \", len(chunk),\"ms\")\n",
        "\n",
        "\n",
        "\n",
        "        \n",
        "              \n"
      ],
      "execution_count": 5,
      "outputs": [
        {
          "output_type": "stream",
          "text": [
            "working on file /content/drive/MyDrive/APS360 Team Project/data/testsmall/000/000010.mp3\n",
            "deleted malformed chunk of length  1977 ms\n",
            "working on file /content/drive/MyDrive/APS360 Team Project/data/testsmall/000/000005.mp3\n",
            "deleted malformed chunk of length  3 ms\n",
            "working on file /content/drive/MyDrive/APS360 Team Project/data/testsmall/000/000002.mp3\n",
            "deleted malformed chunk of length  1977 ms\n",
            "working on file /content/drive/MyDrive/APS360 Team Project/data/testsmall/001/001040.mp3\n",
            "deleted malformed chunk of length  1977 ms\n",
            "working on file /content/drive/MyDrive/APS360 Team Project/data/testsmall/001/001069.mp3\n",
            "deleted malformed chunk of length  1977 ms\n",
            "working on file /content/drive/MyDrive/APS360 Team Project/data/testsmall/001/001066.mp3\n",
            "deleted malformed chunk of length  3 ms\n",
            "working on file /content/drive/MyDrive/APS360 Team Project/data/testsmall/001/001039.mp3\n",
            "deleted malformed chunk of length  1977 ms\n"
          ],
          "name": "stdout"
        }
      ]
    },
    {
      "cell_type": "code",
      "metadata": {
        "id": "A9mSGz1xwrCN"
      },
      "source": [
        ""
      ],
      "execution_count": null,
      "outputs": []
    }
  ]
}