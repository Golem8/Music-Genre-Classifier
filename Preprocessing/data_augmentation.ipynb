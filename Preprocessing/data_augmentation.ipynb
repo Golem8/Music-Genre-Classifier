{
  "nbformat": 4,
  "nbformat_minor": 0,
  "metadata": {
    "colab": {
      "name": "da2.ipynb",
      "provenance": [],
      "collapsed_sections": []
    },
    "kernelspec": {
      "name": "python3",
      "display_name": "Python 3"
    },
    "language_info": {
      "name": "python"
    }
  },
  "cells": [
    {
      "cell_type": "code",
      "metadata": {
        "colab": {
          "base_uri": "https://localhost:8080/"
        },
        "id": "m2vS-QF5QtvW",
        "outputId": "3894c6fb-ee52-4bd0-b28c-9040cda4e5b9"
      },
      "source": [
        "#mount google drive\n",
        "from google.colab import drive\n",
        "drive.mount('/content/drive')"
      ],
      "execution_count": 1,
      "outputs": [
        {
          "output_type": "stream",
          "text": [
            "Mounted at /content/drive\n"
          ],
          "name": "stdout"
        }
      ]
    },
    {
      "cell_type": "code",
      "metadata": {
        "id": "67Epf_xSRr6p",
        "colab": {
          "base_uri": "https://localhost:8080/"
        },
        "outputId": "86c3b1a2-3c8a-4cd6-e89c-facaf884a69b"
      },
      "source": [
        "#import libraries\n",
        "!pip install pydub\n",
        "import pydub\n",
        "import librosa\n",
        "import os\n",
        "from pydub import AudioSegment \n",
        "from pydub.utils import make_chunks\n",
        "\n",
        "from pydub import AudioSegment\n",
        "from pydub.generators import WhiteNoise\n",
        "import numpy as np\n",
        "import soundfile"
      ],
      "execution_count": 2,
      "outputs": [
        {
          "output_type": "stream",
          "text": [
            "Collecting pydub\n",
            "  Downloading https://files.pythonhosted.org/packages/a6/53/d78dc063216e62fc55f6b2eebb447f6a4b0a59f55c8406376f76bf959b08/pydub-0.25.1-py2.py3-none-any.whl\n",
            "Installing collected packages: pydub\n",
            "Successfully installed pydub-0.25.1\n"
          ],
          "name": "stdout"
        }
      ]
    },
    {
      "cell_type": "code",
      "metadata": {
        "id": "Hnn3yAv0m_iF"
      },
      "source": [
        "def augment_export(outputPath,iteration,chunk):\n",
        "  # augment using white noise and pitch\n",
        "  # adapted from https://stackoverflow.com/questions/56023174/how-to-add-noise-to-audiosegment-using-pydub\n",
        "\n",
        "  filepathwn = outputPath[:-4] + \"_\" + str(iteration) + \"_wn.wav\"\n",
        "  filepathreg = outputPath[:-4] + \"_\" + str(iteration) + \"_reg.wav\"\n",
        "\n",
        "  #-20 lowers the dB volume of the white noise\n",
        "  whitenoise = WhiteNoise().to_audio_segment(duration=len(chunk),volume=-20)\n",
        "  chunkWithNoise = chunk.overlay(whitenoise)\n",
        "  \n",
        "  # Debugging\n",
        "  #print (\"exporting\", filepathwn, \"and\",filepathreg)\n",
        "\n",
        "  #export the varients as .wav files (for easy use in librosa)\n",
        "  chunkWithNoise.export(filepathwn, format=\"wav\")\n",
        "  chunk.export(filepathreg, format=\"wav\")\n",
        "\n",
        "  #issue with pitch shift, can add later\n",
        "  \"\"\"\n",
        "  # https://stackoverflow.com/questions/58810035/converting-audio-files-between-pydub-and-librosa\n",
        "  samples = chunk.get_array_of_samples()\n",
        "  arr = np.array(samples).astype(np.float32)\n",
        "\n",
        "  #https://groups.google.com/g/librosa/c/XWae4PdbXuk\n",
        "  filepathpitch = outputPath[:-4] + \"_\" + str(i) + \"_pitch.wav\"\n",
        "  # sampling rate for our dataset is 22050\n",
        "  # https://www.researchgate.net/publication/311458869_FMA_A_Dataset_For_Music_Analysis\n",
        "  sr=22050\n",
        "  y_shifted = librosa.effects.pitch_shift(arr, sr, n_steps=1) # shifted by 4 half steps\n",
        "  soundfile.write(filepathpitch, y_shifted, sr, subtype=None, endian=None, format=None, closefd=True)\n",
        "  \"\"\"\n"
      ],
      "execution_count": 3,
      "outputs": []
    },
    {
      "cell_type": "code",
      "metadata": {
        "id": "A9mSGz1xwrCN"
      },
      "source": [
        "def augment(start,end,output_folder):\n",
        "  currentFolder=start\n",
        "  while currentFolder != end+1:\n",
        "    data_path = \"/content/drive/MyDrive/APS360 Team Project/data/fma_small/\" + f\"{currentFolder:03}\"\n",
        "    for file in os.listdir(data_path):\n",
        "        filepath = data_path + '/' + file\n",
        "\n",
        "        # only keep the path if it is a music file, exclude \n",
        "        # other files in dataset\n",
        "        if filepath.endswith(\".mp3\"): # then a music file has been found\n",
        "            print(\"working on file\",filepath)\n",
        "            #https://stackoverflow.com/questions/65857983/how-can-i-split-an-audio-file-into-multiple-audio-wav-files-from-folder\n",
        "\n",
        "            audio_object = AudioSegment.from_mp3(filepath) \n",
        "            chunk_length_ms = 2000 #2000 ms clips each \n",
        "\n",
        "            #slices the audio into 2 second clips\n",
        "            chunks = make_chunks(audio_object,chunk_length_ms)\n",
        "            for iteration, chunk in enumerate(chunks): \n",
        "              outputPath = \"/content/drive/MyDrive/APS360 Team Project/data/\" + output_folder + \"/\" + file[:-4] + \".wav\"\n",
        "\n",
        "              # if the chunks are not 2000 ms long (the last one may be shorter)\n",
        "              #discard them as they would\n",
        "              # mess up the creation of the spectrograms\n",
        "              if len(chunk) == 2000:\n",
        "                # will export the name with scheme path_iteration_(augment_type).wav\n",
        "                augment_export(outputPath,iteration,chunk)\n",
        "              else:\n",
        "                print(\"deleted malformed chunk of length \", len(chunk),\"ms\")\n",
        "\n",
        "    currentFolder+=1"
      ],
      "execution_count": 5,
      "outputs": []
    },
    {
      "cell_type": "code",
      "metadata": {
        "id": "dtDJXwdgTqTo",
        "colab": {
          "base_uri": "https://localhost:8080/"
        },
        "outputId": "0e4b2ef5-8954-4bd0-c99e-4e2df7086101"
      },
      "source": [
        "augment(0,30,\"block1\")\n",
        "print(\"done\")"
      ],
      "execution_count": 5,
      "outputs": [
        {
          "output_type": "stream",
          "text": [
            "done\n"
          ],
          "name": "stdout"
        }
      ]
    },
    {
      "cell_type": "code",
      "metadata": {
        "id": "OxqbxfluXNZn",
        "colab": {
          "base_uri": "https://localhost:8080/"
        },
        "outputId": "4e40fa05-864c-4d12-90ec-205f0049696e"
      },
      "source": [
        "augment(31,60,\"block2\")\n",
        "print(\"done\")"
      ],
      "execution_count": 6,
      "outputs": [
        {
          "output_type": "stream",
          "text": [
            "done\n"
          ],
          "name": "stdout"
        }
      ]
    },
    {
      "cell_type": "code",
      "metadata": {
        "id": "WZhbYOVHXRxu",
        "colab": {
          "base_uri": "https://localhost:8080/"
        },
        "outputId": "cce9ed06-a545-455d-93b9-4aefd0e6f19c"
      },
      "source": [
        "augment(61,90,\"block3\")\n",
        "print(\"done\")"
      ],
      "execution_count": 10,
      "outputs": [
        {
          "output_type": "stream",
          "text": [
            "done\n"
          ],
          "name": "stdout"
        }
      ]
    },
    {
      "cell_type": "code",
      "metadata": {
        "id": "wifxCIQ_XTs3",
        "colab": {
          "base_uri": "https://localhost:8080/"
        },
        "outputId": "46d7ff41-5762-4b7c-f6ef-d5af81a6bd52"
      },
      "source": [
        "augment(91,120,\"block4\")\n",
        "print(\"done\")"
      ],
      "execution_count": 11,
      "outputs": [
        {
          "output_type": "stream",
          "text": [
            "done\n"
          ],
          "name": "stdout"
        }
      ]
    },
    {
      "cell_type": "code",
      "metadata": {
        "colab": {
          "base_uri": "https://localhost:8080/"
        },
        "id": "9ttrRswLYUfS",
        "outputId": "71b6b4de-3c3d-490c-e668-23e914525d07"
      },
      "source": [
        "augment(121,155,\"block5\")\n",
        "print(\"done\")"
      ],
      "execution_count": 7,
      "outputs": [
        {
          "output_type": "stream",
          "text": [
            "done\n"
          ],
          "name": "stdout"
        }
      ]
    },
    {
      "cell_type": "code",
      "metadata": {
        "id": "k5AIYalPR6KM"
      },
      "source": [
        "\n",
        "#this code works, but it times out because it takes too long to run.\n",
        "\"\"\"\n",
        "data_path = \"/content/drive/MyDrive/APS360 Team Project/data/fma_small\"\n",
        "\n",
        "# recursively goes though subdirectores and files\n",
        "# adapted from https://newbedev.com/how-to-iterate-over-files-in-a-given-directory\n",
        "for current_path, dirs_in_path, files_in_path in os.walk(data_path):\n",
        "    # dont need to use dirs_in_path or directories, only interested in files\n",
        "    for file in files_in_path:\n",
        "        filepath = current_path + '/' + file\n",
        "\n",
        "        # only keep the path if it is a music file, exclude \n",
        "        # other files in dataset\n",
        "        if filepath.endswith(\".mp3\"): # then a music file has been found\n",
        "            print(\"working on file\",filepath)\n",
        "            #https://stackoverflow.com/questions/65857983/how-can-i-split-an-audio-file-into-multiple-audio-wav-files-from-folder\n",
        "\n",
        "            audio_object = AudioSegment.from_mp3(filepath) \n",
        "            chunk_length_ms = 2000 #2000 ms clips each \n",
        "\n",
        "            #slices the audio into 2 second clips\n",
        "            chunks = make_chunks(audio_object,chunk_length_ms)\n",
        "            for iteration, chunk in enumerate(chunks): \n",
        "              outputPath = \"/content/drive/MyDrive/APS360 Team Project/data/fma_small_augmented/\" + file[:-4] + \".wav\"\n",
        "\n",
        "              # if the chunks are not 2000 ms long (the last one may be shorter)\n",
        "              #discard them as they would\n",
        "              # mess up the creation of the spectrograms\n",
        "              if len(chunk) == 2000:\n",
        "                # will export the name with scheme path_iteration_(augment_type).wav\n",
        "                augment_export(outputPath,iteration,chunk)\n",
        "              else:\n",
        "                print(\"deleted malformed chunk of length \", len(chunk),\"ms\")\n",
        "\n",
        "\n",
        "\"\"\"\n",
        "        \n",
        "  "
      ],
      "execution_count": null,
      "outputs": []
    }
  ]
}