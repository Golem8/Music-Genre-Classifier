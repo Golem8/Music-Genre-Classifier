{
  "nbformat": 4,
  "nbformat_minor": 0,
  "metadata": {
    "colab": {
      "name": "data_labelling_and_split.ipynb",
      "provenance": [],
      "collapsed_sections": [],
      "authorship_tag": "ABX9TyM+c30+cKJKy0hZBpy0alcI",
      "include_colab_link": true
    },
    "kernelspec": {
      "name": "python3",
      "display_name": "Python 3"
    },
    "language_info": {
      "name": "python"
    }
  },
  "cells": [
    {
      "cell_type": "markdown",
      "metadata": {
        "id": "view-in-github",
        "colab_type": "text"
      },
      "source": [
        "<a href=\"https://colab.research.google.com/github/Golem8/Music-Genre-Classifier/blob/main/Preprocessing/data_labelling_and_split.ipynb\" target=\"_parent\"><img src=\"https://colab.research.google.com/assets/colab-badge.svg\" alt=\"Open In Colab\"/></a>"
      ]
    },
    {
      "cell_type": "markdown",
      "metadata": {
        "id": "CAGAwmY0uJTR"
      },
      "source": [
        "**Filename:** data_labelling.ipynb\n",
        "\n",
        "**Author:** Matthew Mao\n",
        "\n",
        "**Description:** Sort dataset into labelled folders, then split into 3 sets\n",
        "\n",
        "---\n",
        "\n",
        "https://nbviewer.jupyter.org/github/mdeff/fma/blob/outputs/usage.ipynb\n",
        "\n",
        "https://gist.github.com/drscotthawley/eb4ffb1ec4de29632403c1db396e419a"
      ]
    },
    {
      "cell_type": "code",
      "metadata": {
        "colab": {
          "base_uri": "https://localhost:8080/"
        },
        "id": "5FXp_UZnuHBw",
        "outputId": "b823c4a2-f128-47c8-8aa3-39b626b5b0f6"
      },
      "source": [
        "#mount google drive\n",
        "from google.colab import drive\n",
        "drive.mount('/content/drive')"
      ],
      "execution_count": 1,
      "outputs": [
        {
          "output_type": "stream",
          "text": [
            "Mounted at /content/drive\n"
          ],
          "name": "stdout"
        }
      ]
    },
    {
      "cell_type": "code",
      "metadata": {
        "id": "5Wf2nUeDwVyy"
      },
      "source": [
        "# Copy genres and track metadata to local runtime\n",
        "!cp \"/content/drive/MyDrive/Year 1 (2020-2021)/APS360 - Applied Fundamentals of Machine Learning/APS360 Team Project/data/fma_metadata/genres.csv\" /content/\n",
        "!cp \"/content/drive/MyDrive/Year 1 (2020-2021)/APS360 - Applied Fundamentals of Machine Learning/APS360 Team Project/data/fma_metadata/tracks.csv\" /content/\n",
        "\n",
        "# Copy utils module provided along with dataset\n",
        "!cp \"/content/drive/MyDrive/Year 1 (2020-2021)/APS360 - Applied Fundamentals of Machine Learning/APS360 Team Project/data/utils.py\" /content/"
      ],
      "execution_count": 7,
      "outputs": []
    },
    {
      "cell_type": "code",
      "metadata": {
        "colab": {
          "base_uri": "https://localhost:8080/"
        },
        "id": "Id5Yi-GaviPX",
        "outputId": "1105ec29-a9a0-42b1-83c5-b3f86402e4a0"
      },
      "source": [
        "import os\n",
        "\n",
        "import IPython.display as ipd\n",
        "import sklearn as skl\n",
        "\n",
        "!pip install python-dotenv\n",
        "import utils"
      ],
      "execution_count": 18,
      "outputs": [
        {
          "output_type": "stream",
          "text": [
            "Requirement already satisfied: python-dotenv in /usr/local/lib/python3.7/dist-packages (0.17.1)\n"
          ],
          "name": "stdout"
        }
      ]
    },
    {
      "cell_type": "code",
      "metadata": {
        "id": "e47xwf3EUuG3"
      },
      "source": [
        "tracks = utils.load('/content/tracks.csv')\n",
        "genres = utils.load('/content/genres.csv')"
      ],
      "execution_count": 12,
      "outputs": []
    },
    {
      "cell_type": "code",
      "metadata": {
        "colab": {
          "base_uri": "https://localhost:8080/",
          "height": 510
        },
        "id": "ZBcp2dsEVDas",
        "outputId": "f8cdf1a1-f1fd-429e-d5b8-20439fa762a6"
      },
      "source": [
        "ipd.display(tracks['track'].head())"
      ],
      "execution_count": 17,
      "outputs": [
        {
          "output_type": "display_data",
          "data": {
            "text/html": [
              "<div>\n",
              "<style scoped>\n",
              "    .dataframe tbody tr th:only-of-type {\n",
              "        vertical-align: middle;\n",
              "    }\n",
              "\n",
              "    .dataframe tbody tr th {\n",
              "        vertical-align: top;\n",
              "    }\n",
              "\n",
              "    .dataframe thead th {\n",
              "        text-align: right;\n",
              "    }\n",
              "</style>\n",
              "<table border=\"1\" class=\"dataframe\">\n",
              "  <thead>\n",
              "    <tr style=\"text-align: right;\">\n",
              "      <th></th>\n",
              "      <th>bit_rate</th>\n",
              "      <th>comments</th>\n",
              "      <th>composer</th>\n",
              "      <th>date_created</th>\n",
              "      <th>date_recorded</th>\n",
              "      <th>duration</th>\n",
              "      <th>favorites</th>\n",
              "      <th>genre_top</th>\n",
              "      <th>genres</th>\n",
              "      <th>genres_all</th>\n",
              "      <th>information</th>\n",
              "      <th>interest</th>\n",
              "      <th>language_code</th>\n",
              "      <th>license</th>\n",
              "      <th>listens</th>\n",
              "      <th>lyricist</th>\n",
              "      <th>number</th>\n",
              "      <th>publisher</th>\n",
              "      <th>tags</th>\n",
              "      <th>title</th>\n",
              "    </tr>\n",
              "    <tr>\n",
              "      <th>track_id</th>\n",
              "      <th></th>\n",
              "      <th></th>\n",
              "      <th></th>\n",
              "      <th></th>\n",
              "      <th></th>\n",
              "      <th></th>\n",
              "      <th></th>\n",
              "      <th></th>\n",
              "      <th></th>\n",
              "      <th></th>\n",
              "      <th></th>\n",
              "      <th></th>\n",
              "      <th></th>\n",
              "      <th></th>\n",
              "      <th></th>\n",
              "      <th></th>\n",
              "      <th></th>\n",
              "      <th></th>\n",
              "      <th></th>\n",
              "      <th></th>\n",
              "    </tr>\n",
              "  </thead>\n",
              "  <tbody>\n",
              "    <tr>\n",
              "      <th>2</th>\n",
              "      <td>256000</td>\n",
              "      <td>0</td>\n",
              "      <td>NaN</td>\n",
              "      <td>2008-11-26 01:48:12</td>\n",
              "      <td>2008-11-26</td>\n",
              "      <td>168</td>\n",
              "      <td>2</td>\n",
              "      <td>Hip-Hop</td>\n",
              "      <td>[21]</td>\n",
              "      <td>[21]</td>\n",
              "      <td>NaN</td>\n",
              "      <td>4656</td>\n",
              "      <td>en</td>\n",
              "      <td>Attribution-NonCommercial-ShareAlike 3.0 Inter...</td>\n",
              "      <td>1293</td>\n",
              "      <td>NaN</td>\n",
              "      <td>3</td>\n",
              "      <td>NaN</td>\n",
              "      <td>[]</td>\n",
              "      <td>Food</td>\n",
              "    </tr>\n",
              "    <tr>\n",
              "      <th>3</th>\n",
              "      <td>256000</td>\n",
              "      <td>0</td>\n",
              "      <td>NaN</td>\n",
              "      <td>2008-11-26 01:48:14</td>\n",
              "      <td>2008-11-26</td>\n",
              "      <td>237</td>\n",
              "      <td>1</td>\n",
              "      <td>Hip-Hop</td>\n",
              "      <td>[21]</td>\n",
              "      <td>[21]</td>\n",
              "      <td>NaN</td>\n",
              "      <td>1470</td>\n",
              "      <td>en</td>\n",
              "      <td>Attribution-NonCommercial-ShareAlike 3.0 Inter...</td>\n",
              "      <td>514</td>\n",
              "      <td>NaN</td>\n",
              "      <td>4</td>\n",
              "      <td>NaN</td>\n",
              "      <td>[]</td>\n",
              "      <td>Electric Ave</td>\n",
              "    </tr>\n",
              "    <tr>\n",
              "      <th>5</th>\n",
              "      <td>256000</td>\n",
              "      <td>0</td>\n",
              "      <td>NaN</td>\n",
              "      <td>2008-11-26 01:48:20</td>\n",
              "      <td>2008-11-26</td>\n",
              "      <td>206</td>\n",
              "      <td>6</td>\n",
              "      <td>Hip-Hop</td>\n",
              "      <td>[21]</td>\n",
              "      <td>[21]</td>\n",
              "      <td>NaN</td>\n",
              "      <td>1933</td>\n",
              "      <td>en</td>\n",
              "      <td>Attribution-NonCommercial-ShareAlike 3.0 Inter...</td>\n",
              "      <td>1151</td>\n",
              "      <td>NaN</td>\n",
              "      <td>6</td>\n",
              "      <td>NaN</td>\n",
              "      <td>[]</td>\n",
              "      <td>This World</td>\n",
              "    </tr>\n",
              "    <tr>\n",
              "      <th>10</th>\n",
              "      <td>192000</td>\n",
              "      <td>0</td>\n",
              "      <td>Kurt Vile</td>\n",
              "      <td>2008-11-25 17:49:06</td>\n",
              "      <td>2008-11-26</td>\n",
              "      <td>161</td>\n",
              "      <td>178</td>\n",
              "      <td>Pop</td>\n",
              "      <td>[10]</td>\n",
              "      <td>[10]</td>\n",
              "      <td>NaN</td>\n",
              "      <td>54881</td>\n",
              "      <td>en</td>\n",
              "      <td>Attribution-NonCommercial-NoDerivatives (aka M...</td>\n",
              "      <td>50135</td>\n",
              "      <td>NaN</td>\n",
              "      <td>1</td>\n",
              "      <td>NaN</td>\n",
              "      <td>[]</td>\n",
              "      <td>Freeway</td>\n",
              "    </tr>\n",
              "    <tr>\n",
              "      <th>20</th>\n",
              "      <td>256000</td>\n",
              "      <td>0</td>\n",
              "      <td>NaN</td>\n",
              "      <td>2008-11-26 01:48:56</td>\n",
              "      <td>2008-01-01</td>\n",
              "      <td>311</td>\n",
              "      <td>0</td>\n",
              "      <td>NaN</td>\n",
              "      <td>[76, 103]</td>\n",
              "      <td>[17, 10, 76, 103]</td>\n",
              "      <td>NaN</td>\n",
              "      <td>978</td>\n",
              "      <td>en</td>\n",
              "      <td>Attribution-NonCommercial-NoDerivatives (aka M...</td>\n",
              "      <td>361</td>\n",
              "      <td>NaN</td>\n",
              "      <td>3</td>\n",
              "      <td>NaN</td>\n",
              "      <td>[]</td>\n",
              "      <td>Spiritual Level</td>\n",
              "    </tr>\n",
              "  </tbody>\n",
              "</table>\n",
              "</div>"
            ],
            "text/plain": [
              "          bit_rate  comments   composer  ... publisher tags            title\n",
              "track_id                                 ...                                \n",
              "2           256000         0        NaN  ...       NaN   []             Food\n",
              "3           256000         0        NaN  ...       NaN   []     Electric Ave\n",
              "5           256000         0        NaN  ...       NaN   []       This World\n",
              "10          192000         0  Kurt Vile  ...       NaN   []          Freeway\n",
              "20          256000         0        NaN  ...       NaN   []  Spiritual Level\n",
              "\n",
              "[5 rows x 20 columns]"
            ]
          },
          "metadata": {
            "tags": []
          }
        }
      ]
    },
    {
      "cell_type": "code",
      "metadata": {
        "id": "LOLWjakSXo2Y"
      },
      "source": [
        "def get_audio_path(audio_dir, track_id, slice_num, suffix):\n",
        "    tid_str = '{:06d}'.format(track_id)\n",
        "    for block_num in range(5): # 5 block folders\n",
        "        path = os.path.join(audio_dir, \"block\" + str(block_num + 1), tid_str + \"_\" + str(slice_num) + \"_\" + suffix + '.wav')\n",
        "        if os.path.isfile(path):\n",
        "            return path"
      ],
      "execution_count": 48,
      "outputs": []
    },
    {
      "cell_type": "code",
      "metadata": {
        "colab": {
          "base_uri": "https://localhost:8080/",
          "height": 35
        },
        "id": "BFNs-vzbdFsR",
        "outputId": "4be7a856-889c-4c0d-e092-880559a37dc6"
      },
      "source": [
        "get_audio_path(AUDIO_DIR, 2, 13, \"wn\")"
      ],
      "execution_count": 55,
      "outputs": [
        {
          "output_type": "execute_result",
          "data": {
            "application/vnd.google.colaboratory.intrinsic+json": {
              "type": "string"
            },
            "text/plain": [
              "'/content/drive/MyDrive/Year 1 (2020-2021)/APS360 - Applied Fundamentals of Machine Learning/APS360 Team Project/data/block1/000002_13_wn.wav'"
            ]
          },
          "metadata": {
            "tags": []
          },
          "execution_count": 55
        }
      ]
    },
    {
      "cell_type": "code",
      "metadata": {
        "id": "a-vdGe3JVKy7"
      },
      "source": [
        "AUDIO_DIR = \"/content/drive/MyDrive/Year 1 (2020-2021)/APS360 - Applied Fundamentals of Machine Learning/APS360 Team Project/data\"\n",
        "NEW_DIR = os.path.join(AUDIO_DIR, \"labelled\")\n",
        "\n",
        "small_tracks = tracks['set', 'subset'] <= 'small'\n",
        "small_genres = tracks.loc[small_tracks, ('track', 'genre_top')]\n",
        "augment = [\"reg\", \"wn\"]\n",
        "\n",
        "# Sort songs into labelled folders inside /data/labelled/\n",
        "for track_id, genre in small_genres.iteritems():\n",
        "    new_path = os.path.join(NEW_DIR, genre)\n",
        "    if not os.path.exists(new_path):\n",
        "        os.mkdir(new_path)\n",
        "    for slice_num in range(14): # Each file has 0-13 slices\n",
        "        for suffix in augment: # Each file has \"reg\" and \"wn\" version\n",
        "            filepath = get_audio_path(AUDIO_DIR, track_id, slice_num, suffix)\n",
        "            tid_str = '{:06d}'.format(track_id)\n",
        "            filename = tid_str + \"_\" + str(slice_num) + \"_\" + suffix + '.wav'\n",
        "            print(\"Moving\", filename, \"to\", genre)\n",
        "            os.rename(filepath, new_path + \"/\" + filename)"
      ],
      "execution_count": null,
      "outputs": []
    },
    {
      "cell_type": "code",
      "metadata": {
        "id": "om2Se088hh2d"
      },
      "source": [
        "# For splitting into training, validation, and testing\n",
        "# https://pypi.org/project/split-folders/\n",
        "!pip install split-folders\n",
        "import splitfolders\n",
        "\n",
        "input_path = \"/content/drive/MyDrive/Year 1 (2020-2021)/APS360 - Applied Fundamentals of Machine Learning/APS360 Team Project/data/labelled\"\n",
        "output_path = \"/content/drive/MyDrive/Year 1 (2020-2021)/APS360 - Applied Fundamentals of Machine Learning/APS360 Team Project/data/datasets\"\n",
        "\n",
        "trainPercent = 0.7\n",
        "valPercent = 0.15\n",
        "testPercent = 0.15\n",
        "\n",
        "# The group_prefix parameter will use the first 6 digits as an id to keep clips of the same song together, one song won't appear in two datasets\n",
        "# The package will shuffle the data\n",
        "splitfolders.ratio(input, output=output, seed=9999, ratio[trainPercent, valPercent, testPercent], group_prefix=6)"
      ],
      "execution_count": null,
      "outputs": []
    }
  ]
}