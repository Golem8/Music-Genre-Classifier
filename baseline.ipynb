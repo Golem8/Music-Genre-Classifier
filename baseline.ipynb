{
  "nbformat": 4,
  "nbformat_minor": 0,
  "metadata": {
    "colab": {
      "name": "baseline.ipynb",
      "provenance": [],
      "collapsed_sections": [],
      "authorship_tag": "ABX9TyO0vN91xnGA1c2LUCpJHki4",
      "include_colab_link": true
    },
    "kernelspec": {
      "name": "python3",
      "display_name": "Python 3"
    },
    "language_info": {
      "name": "python"
    }
  },
  "cells": [
    {
      "cell_type": "markdown",
      "metadata": {
        "id": "view-in-github",
        "colab_type": "text"
      },
      "source": [
        "<a href=\"https://colab.research.google.com/github/Golem8/Music-Genre-Classifier/blob/main/baseline.ipynb\" target=\"_parent\"><img src=\"https://colab.research.google.com/assets/colab-badge.svg\" alt=\"Open In Colab\"/></a>"
      ]
    },
    {
      "cell_type": "code",
      "metadata": {
        "colab": {
          "base_uri": "https://localhost:8080/"
        },
        "id": "VpCFbrx-_1tV",
        "outputId": "b33c71b4-d1cc-4e98-a587-66c96fdd0696"
      },
      "source": [
        "from google.colab import drive\n",
        "drive.mount('/content/drive')"
      ],
      "execution_count": null,
      "outputs": [
        {
          "output_type": "stream",
          "text": [
            "Mounted at /content/drive\n"
          ],
          "name": "stdout"
        }
      ]
    },
    {
      "cell_type": "code",
      "metadata": {
        "id": "MwkawQQBADxM",
        "colab": {
          "base_uri": "https://localhost:8080/"
        },
        "outputId": "2c15ede1-c534-4481-c8d7-c7f070117ea4"
      },
      "source": [
        "# Imports\n",
        "import os\n",
        "!pip install pydub\n",
        "from pydub.utils import make_chunks\n",
        "from pydub import AudioSegment\n",
        "import numpy as np"
      ],
      "execution_count": 3,
      "outputs": [
        {
          "output_type": "stream",
          "text": [
            "Requirement already satisfied: pydub in /usr/local/lib/python3.7/dist-packages (0.25.1)\n"
          ],
          "name": "stdout"
        }
      ]
    },
    {
      "cell_type": "code",
      "metadata": {
        "id": "xZDLbQI__z7U"
      },
      "source": [
        "# this could differ based on how you saved the shared folder\n",
        "sharedPath = r'/content/drive/MyDrive/APS360 Team Project' # Simon's path\n",
        "\n",
        "for block in ['block1','block2','block3','block4','block5']:\n",
        "  blockPath = os.path.join(sharedPath, 'data', block)\n",
        "  for filename in os.listdir(blockPath):\n",
        "    if filename.endswith('.wav'):\n",
        "      twoSecClip = AudioSegment.from_wav(os.path.join(path,filename))\n",
        "\n",
        "      #each subclip is 200ms long\n",
        "      chunks = make_chunks(twoSecClip,200)\n",
        "\n",
        "      # iterate over the newly created objects\n",
        "      for chunk in chunks:\n",
        "        if len(chunk) != 200:\n",
        "          print('Something went wrong with chunk splitting')\n",
        "        else:\n",
        "          # im not sure what format you will need it in, so here are some options\n",
        "\n",
        "          # make it mono instead of stero for fourier transform \n",
        "          # chunk = chunk.set_channels(1)\n",
        "\n",
        "          # chunks are pydub audio segments. It may be necessary to change\n",
        "          # the datatype depending on the fourier transform method used.\n",
        "          # if using numpy, try this:\n",
        "          # chunk_array = np.array(chunk.get_array_of_samples())\n",
        "\n",
        "          # use this function to do the fft. It will be called with every 200ms clip\n",
        "          danielsFunction(params)\n",
        "\n"
      ],
      "execution_count": 6,
      "outputs": []
    }
  ]
}